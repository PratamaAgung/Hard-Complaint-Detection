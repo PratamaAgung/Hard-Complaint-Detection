{
 "cells": [
  {
   "cell_type": "code",
   "execution_count": 1,
   "metadata": {},
   "outputs": [],
   "source": [
    "import csv\n",
    "from sklearn.model_selection import train_test_split, KFold\n",
    "from sklearn.metrics import classification_report\n",
    "from sklearn.svm import LinearSVC, SVC\n",
    "from sklearn.pipeline import Pipeline\n",
    "from sklearn.feature_extraction.text import CountVectorizer, TfidfVectorizer\n",
    "from sklearn.ensemble import RandomForestClassifier\n",
    "import numpy as np\n",
    "import requests\n",
    "import json"
   ]
  },
  {
   "cell_type": "code",
   "execution_count": 2,
   "metadata": {},
   "outputs": [],
   "source": [
    "def semantic_hard_complaint_rule(chat):\n",
    "    chat = str(chat)\n",
    "    disappointed_words = [\"kecewa\", \"tidak puas\", \"kurang puas\", \"brengsek\", \"bangsat\", \"brgsk\", \"bgst\", \"anjing\"]\n",
    "    for dw in disappointed_words:\n",
    "        if dw in chat:\n",
    "            return 1\n",
    "    return 0\n",
    "\n",
    "def formalizer(string):\n",
    "    req = requests.post(\"http://127.0.0.1:9000/formalizer\", json= {\"string\": string})\n",
    "    response = req.json()\n",
    "    if response['status'] == 'success':\n",
    "        return response['data']\n",
    "    else:\n",
    "        print('formalizer ' + str(response) + str(string))\n",
    "        return None\n",
    "    \n",
    "def stemmer(string):\n",
    "    req = requests.post(\"http://127.0.0.1:9000/stemmer\", json= {\"string\": string})\n",
    "    response = req.json()\n",
    "    if response['status'] == 'success':\n",
    "        return response['data']\n",
    "    else:\n",
    "        print('stemmer ' + str(response))\n",
    "        return None\n",
    "    \n",
    "def stopwords_removal(string):\n",
    "    req = requests.post(\"http://127.0.0.1:9000/stopwords\", json= {\"string\": string})\n",
    "    response = req.json()\n",
    "    if response['status'] == 'success':\n",
    "        return response['data']\n",
    "    else:\n",
    "        print('stopwords ' + str(response))\n",
    "        return None"
   ]
  },
  {
   "cell_type": "code",
   "execution_count": 3,
   "metadata": {},
   "outputs": [],
   "source": [
    "import pandas as pd\n",
    "data = pd.read_csv(\"complaint_data_2k.csv\")"
   ]
  },
  {
   "cell_type": "code",
   "execution_count": 4,
   "metadata": {},
   "outputs": [],
   "source": [
    "chat_data = np.array(data['Chat'].values.tolist())\n",
    "chat_label = np.array(data['Label'].values.tolist())"
   ]
  },
  {
   "cell_type": "code",
   "execution_count": 7,
   "metadata": {},
   "outputs": [],
   "source": [
    "chat_data_normalized = []\n",
    "for chat in chat_data:\n",
    "    normalized = formalizer(chat)\n",
    "    chat_data_normalized.append(stemmer(normalized))\n",
    "\n",
    "chat_data_normalized = np.array(chat_data_normalized)"
   ]
  },
  {
   "cell_type": "code",
   "execution_count": 8,
   "metadata": {},
   "outputs": [],
   "source": [
    "kf = KFold(n_splits= 10, shuffle= True)"
   ]
  },
  {
   "cell_type": "markdown",
   "metadata": {},
   "source": [
    "## Only Using Rule-Based"
   ]
  },
  {
   "cell_type": "code",
   "execution_count": 9,
   "metadata": {},
   "outputs": [
    {
     "name": "stdout",
     "output_type": "stream",
     "text": [
      "Average f1-score: 0.7399378109452737\n"
     ]
    }
   ],
   "source": [
    "## raw-data\n",
    "f1_score = []\n",
    "for train_idx, test_idx in kf.split(chat_data):\n",
    "    train_x, test_x = chat_data[train_idx], chat_data[test_idx]\n",
    "    train_y, test_y = chat_label[train_idx], chat_label[test_idx]\n",
    "    \n",
    "    prediction = [semantic_hard_complaint_rule(x) for x in test_x]\n",
    "    f1_score.append(classification_report(y_pred= prediction, y_true= test_y, output_dict= True)['micro avg']['f1-score'])\n",
    "    \n",
    "print(\"Average f1-score: {}\".format(np.mean(f1_score)))"
   ]
  },
  {
   "cell_type": "code",
   "execution_count": 10,
   "metadata": {},
   "outputs": [
    {
     "name": "stdout",
     "output_type": "stream",
     "text": [
      "Average f1-score: 0.8290796019900499\n"
     ]
    }
   ],
   "source": [
    "## raw-data\n",
    "f1_score = []\n",
    "for train_idx, test_idx in kf.split(chat_label):\n",
    "    train_x, test_x = chat_data_normalized[train_idx], chat_data_normalized[test_idx]\n",
    "    train_y, test_y = chat_label[train_idx], chat_label[test_idx]\n",
    "    \n",
    "    prediction = [semantic_hard_complaint_rule(x) for x in np.nditer(test_x)]\n",
    "    f1_score.append(classification_report(y_pred= prediction, y_true= test_y, output_dict= True)['micro avg']['f1-score'])\n",
    "    \n",
    "print(\"Average f1-score: {}\".format(np.mean(f1_score)))"
   ]
  },
  {
   "cell_type": "markdown",
   "metadata": {},
   "source": [
    "## Using LinearSVC"
   ]
  },
  {
   "cell_type": "code",
   "execution_count": 11,
   "metadata": {},
   "outputs": [
    {
     "name": "stdout",
     "output_type": "stream",
     "text": [
      "Average f1-score: 0.9541517412935324\n"
     ]
    }
   ],
   "source": [
    "## raw-data, using TF\n",
    "f1_score = []\n",
    "for train_idx, test_idx in kf.split(chat_data):\n",
    "    train_x, test_x = chat_data[train_idx], chat_data[test_idx]\n",
    "    train_y, test_y = chat_label[train_idx], chat_label[test_idx]\n",
    "    \n",
    "    pipeline = Pipeline([(\"enc\", CountVectorizer(ngram_range=(1,2))),\n",
    "                        (\"cls\", LinearSVC())])\n",
    "    pipeline.fit(train_x, train_y)\n",
    "    \n",
    "    prediction = [semantic_hard_complaint_rule(x) for x in test_x]\n",
    "    for i, pred in enumerate(prediction):\n",
    "        if pred != 1:\n",
    "            prediction[i] = pipeline.predict([test_x[i]])[0]\n",
    "    f1_score.append(classification_report(y_pred= prediction, y_true= test_y, output_dict= True)['micro avg']['f1-score'])\n",
    "    \n",
    "print(\"Average f1-score: {}\".format(np.mean(f1_score)))"
   ]
  },
  {
   "cell_type": "code",
   "execution_count": 12,
   "metadata": {},
   "outputs": [
    {
     "name": "stdout",
     "output_type": "stream",
     "text": [
      "Average f1-score: 0.9566417910447761\n"
     ]
    }
   ],
   "source": [
    "## raw-data, using TF with normalizer\n",
    "f1_score = []\n",
    "for train_idx, test_idx in kf.split(chat_data):\n",
    "    train_x, test_x = chat_data_normalized[train_idx], chat_data_normalized[test_idx]\n",
    "    train_y, test_y = chat_label[train_idx], chat_label[test_idx]\n",
    "    \n",
    "    pipeline = Pipeline([(\"enc\", CountVectorizer(ngram_range=(1,2))),\n",
    "                        (\"cls\", LinearSVC())])\n",
    "    pipeline.fit(train_x, train_y)\n",
    "    \n",
    "    prediction = [semantic_hard_complaint_rule(x) for x in test_x]\n",
    "    for i, pred in enumerate(prediction):\n",
    "        if pred != 1:\n",
    "            prediction[i] = pipeline.predict([test_x[i]])[0]\n",
    "    f1_score.append(classification_report(y_pred= prediction, y_true= test_y, output_dict= True)['micro avg']['f1-score'])\n",
    "    \n",
    "print(\"Average f1-score: {}\".format(np.mean(f1_score)))"
   ]
  },
  {
   "cell_type": "code",
   "execution_count": 13,
   "metadata": {},
   "outputs": [
    {
     "name": "stdout",
     "output_type": "stream",
     "text": [
      "Average f1-score: 0.9481716417910449\n"
     ]
    }
   ],
   "source": [
    "## raw-data, using TF with minimum occurence and normalizer\n",
    "f1_score = []\n",
    "for train_idx, test_idx in kf.split(chat_data):\n",
    "    train_x, test_x = chat_data_normalized[train_idx], chat_data_normalized[test_idx]\n",
    "    train_y, test_y = chat_label[train_idx], chat_label[test_idx]\n",
    "    \n",
    "    pipeline = Pipeline([(\"enc\", CountVectorizer(ngram_range=(1,2), min_df= 2)),\n",
    "                        (\"cls\", LinearSVC())])\n",
    "    pipeline.fit(train_x, train_y)\n",
    "    \n",
    "    prediction = [semantic_hard_complaint_rule(x) for x in test_x]\n",
    "    for i, pred in enumerate(prediction):\n",
    "        if pred != 1:\n",
    "            prediction[i] = pipeline.predict([test_x[i]])[0]\n",
    "    f1_score.append(classification_report(y_pred= prediction, y_true= test_y, output_dict= True)['micro avg']['f1-score'])\n",
    "    \n",
    "print(\"Average f1-score: {}\".format(np.mean(f1_score)))"
   ]
  },
  {
   "cell_type": "code",
   "execution_count": 14,
   "metadata": {},
   "outputs": [
    {
     "name": "stdout",
     "output_type": "stream",
     "text": [
      "Average f1-score: 0.9686069651741296\n"
     ]
    }
   ],
   "source": [
    "## raw-data, using TF-IDF\n",
    "f1_score = []\n",
    "for train_idx, test_idx in kf.split(chat_data):\n",
    "    train_x, test_x = chat_data[train_idx], chat_data[test_idx]\n",
    "    train_y, test_y = chat_label[train_idx], chat_label[test_idx]\n",
    "    \n",
    "    pipeline = Pipeline([(\"enc\", TfidfVectorizer(ngram_range=(1,2))),\n",
    "                        (\"cls\", LinearSVC())])\n",
    "    pipeline.fit(train_x, train_y)\n",
    "    \n",
    "    prediction = [semantic_hard_complaint_rule(x) for x in test_x]\n",
    "    for i, pred in enumerate(prediction):\n",
    "        if pred != 1:\n",
    "            prediction[i] = pipeline.predict([test_x[i]])[0]\n",
    "    f1_score.append(classification_report(y_pred= prediction, y_true= test_y, output_dict= True)['micro avg']['f1-score'])\n",
    "    \n",
    "print(\"Average f1-score: {}\".format(np.mean(f1_score)))"
   ]
  },
  {
   "cell_type": "code",
   "execution_count": 15,
   "metadata": {},
   "outputs": [
    {
     "name": "stdout",
     "output_type": "stream",
     "text": [
      "Average f1-score: 0.9700945273631841\n"
     ]
    }
   ],
   "source": [
    "## raw-data, using TF-IDF and minimum occurence and normalizer\n",
    "f1_score = []\n",
    "for train_idx, test_idx in kf.split(chat_data):\n",
    "    train_x, test_x = chat_data_normalized[train_idx], chat_data_normalized[test_idx]\n",
    "    train_y, test_y = chat_label[train_idx], chat_label[test_idx]\n",
    "    \n",
    "    pipeline = Pipeline([(\"enc\", TfidfVectorizer(ngram_range=(1,2), min_df= 2)),\n",
    "                        (\"cls\", LinearSVC())])\n",
    "    pipeline.fit(train_x, train_y)\n",
    "    \n",
    "    prediction = [semantic_hard_complaint_rule(x) for x in test_x]\n",
    "    for i, pred in enumerate(prediction):\n",
    "        if pred != 1:\n",
    "            prediction[i] = pipeline.predict([test_x[i]])[0]\n",
    "    f1_score.append(classification_report(y_pred= prediction, y_true= test_y, output_dict= True)['micro avg']['f1-score'])\n",
    "    \n",
    "print(\"Average f1-score: {}\".format(np.mean(f1_score)))"
   ]
  },
  {
   "cell_type": "code",
   "execution_count": 16,
   "metadata": {},
   "outputs": [
    {
     "name": "stdout",
     "output_type": "stream",
     "text": [
      "Average f1-score: 0.9721094527363185\n"
     ]
    }
   ],
   "source": [
    "## raw-data, using TF-IDF with normalizer \n",
    "f1_score = []\n",
    "for train_idx, test_idx in kf.split(chat_data):\n",
    "    train_x, test_x = chat_data_normalized[train_idx], chat_data_normalized[test_idx]\n",
    "    train_y, test_y = chat_label[train_idx], chat_label[test_idx]\n",
    "    \n",
    "    pipeline = Pipeline([(\"enc\", TfidfVectorizer(ngram_range=(1,2))),\n",
    "                        (\"cls\", LinearSVC())])\n",
    "    pipeline.fit(train_x, train_y)\n",
    "    \n",
    "    prediction = [semantic_hard_complaint_rule(x) for x in test_x]\n",
    "    for i, pred in enumerate(prediction):\n",
    "        if pred != 1:\n",
    "            prediction[i] = pipeline.predict([test_x[i]])[0]\n",
    "    f1_score.append(classification_report(y_pred= prediction, y_true= test_y, output_dict= True)['micro avg']['f1-score'])\n",
    "    \n",
    "print(\"Average f1-score: {}\".format(np.mean(f1_score)))"
   ]
  },
  {
   "cell_type": "markdown",
   "metadata": {},
   "source": [
    "## Using RandomForest"
   ]
  },
  {
   "cell_type": "code",
   "execution_count": 17,
   "metadata": {},
   "outputs": [
    {
     "name": "stdout",
     "output_type": "stream",
     "text": [
      "Average f1-score: 0.9416840796019901\n"
     ]
    }
   ],
   "source": [
    "## raw-data, using TF\n",
    "f1_score = []\n",
    "for train_idx, test_idx in kf.split(chat_data):\n",
    "    train_x, test_x = chat_data[train_idx], chat_data[test_idx]\n",
    "    train_y, test_y = chat_label[train_idx], chat_label[test_idx]\n",
    "    \n",
    "    pipeline = Pipeline([(\"enc\", CountVectorizer(ngram_range=(1,2))),\n",
    "                    (\"cls\", RandomForestClassifier(n_estimators= 50))])\n",
    "    pipeline.fit(train_x, train_y)\n",
    "    \n",
    "    prediction = [semantic_hard_complaint_rule(x) for x in test_x]\n",
    "    for i, pred in enumerate(prediction):\n",
    "        if pred != 1:\n",
    "            prediction[i] = pipeline.predict([test_x[i]])[0]\n",
    "    f1_score.append(classification_report(y_pred= prediction, y_true= test_y, output_dict= True)['micro avg']['f1-score'])\n",
    "    \n",
    "print(\"Average f1-score: {}\".format(np.mean(f1_score)))"
   ]
  },
  {
   "cell_type": "code",
   "execution_count": 18,
   "metadata": {},
   "outputs": [
    {
     "name": "stdout",
     "output_type": "stream",
     "text": [
      "Average f1-score: 0.9531691542288556\n"
     ]
    }
   ],
   "source": [
    "## raw-data, using TF and normalizer\n",
    "f1_score = []\n",
    "for train_idx, test_idx in kf.split(chat_data):\n",
    "    train_x, test_x = chat_data_normalized[train_idx], chat_data_normalized[test_idx]\n",
    "    train_y, test_y = chat_label[train_idx], chat_label[test_idx]\n",
    "    \n",
    "    pipeline = Pipeline([(\"enc\", CountVectorizer(ngram_range=(1,2))),\n",
    "                    (\"cls\", RandomForestClassifier(n_estimators= 50))])\n",
    "    pipeline.fit(train_x, train_y)\n",
    "    \n",
    "    prediction = [semantic_hard_complaint_rule(x) for x in test_x]\n",
    "    for i, pred in enumerate(prediction):\n",
    "        if pred != 1:\n",
    "            prediction[i] = pipeline.predict([test_x[i]])[0]\n",
    "    f1_score.append(classification_report(y_pred= prediction, y_true= test_y, output_dict= True)['micro avg']['f1-score'])\n",
    "    \n",
    "print(\"Average f1-score: {}\".format(np.mean(f1_score)))"
   ]
  },
  {
   "cell_type": "code",
   "execution_count": 19,
   "metadata": {},
   "outputs": [
    {
     "name": "stdout",
     "output_type": "stream",
     "text": [
      "Average f1-score: 0.9546567164179104\n"
     ]
    }
   ],
   "source": [
    "## raw-data, using TF and normalizer with minimum occurence\n",
    "f1_score = []\n",
    "for train_idx, test_idx in kf.split(chat_data):\n",
    "    train_x, test_x = chat_data_normalized[train_idx], chat_data_normalized[test_idx]\n",
    "    train_y, test_y = chat_label[train_idx], chat_label[test_idx]\n",
    "    \n",
    "    pipeline = Pipeline([(\"enc\", CountVectorizer(ngram_range=(1,2), min_df= 2)),\n",
    "                    (\"cls\", RandomForestClassifier(n_estimators= 50))])\n",
    "    pipeline.fit(train_x, train_y)\n",
    "    \n",
    "    prediction = [semantic_hard_complaint_rule(x) for x in test_x]\n",
    "    for i, pred in enumerate(prediction):\n",
    "        if pred != 1:\n",
    "            prediction[i] = pipeline.predict([test_x[i]])[0]\n",
    "    f1_score.append(classification_report(y_pred= prediction, y_true= test_y, output_dict= True)['micro avg']['f1-score'])\n",
    "    \n",
    "print(\"Average f1-score: {}\".format(np.mean(f1_score)))"
   ]
  },
  {
   "cell_type": "code",
   "execution_count": 20,
   "metadata": {},
   "outputs": [
    {
     "name": "stdout",
     "output_type": "stream",
     "text": [
      "Average f1-score: 0.9447014925373134\n"
     ]
    }
   ],
   "source": [
    "## raw-data, using TF-IDF\n",
    "f1_score = []\n",
    "for train_idx, test_idx in kf.split(chat_data):\n",
    "    train_x, test_x = chat_data[train_idx], chat_data[test_idx]\n",
    "    train_y, test_y = chat_label[train_idx], chat_label[test_idx]\n",
    "    \n",
    "    pipeline = Pipeline([(\"enc\", TfidfVectorizer(ngram_range=(1,2))),\n",
    "                    (\"cls\", RandomForestClassifier(n_estimators= 50))])\n",
    "    pipeline.fit(train_x, train_y)\n",
    "    \n",
    "    prediction = [semantic_hard_complaint_rule(x) for x in test_x]\n",
    "    for i, pred in enumerate(prediction):\n",
    "        if pred != 1:\n",
    "            prediction[i] = pipeline.predict([test_x[i]])[0]\n",
    "    f1_score.append(classification_report(y_pred= prediction, y_true= test_y, output_dict= True)['micro avg']['f1-score'])\n",
    "    \n",
    "print(\"Average f1-score: {}\".format(np.mean(f1_score)))"
   ]
  },
  {
   "cell_type": "code",
   "execution_count": 21,
   "metadata": {},
   "outputs": [
    {
     "name": "stdout",
     "output_type": "stream",
     "text": [
      "Average f1-score: 0.9546716417910449\n"
     ]
    }
   ],
   "source": [
    "## raw-data, using TF-IDF with normalizer\n",
    "f1_score = []\n",
    "for train_idx, test_idx in kf.split(chat_data):\n",
    "    train_x, test_x = chat_data_normalized[train_idx], chat_data_normalized[test_idx]\n",
    "    train_y, test_y = chat_label[train_idx], chat_label[test_idx]\n",
    "    \n",
    "    pipeline = Pipeline([(\"enc\", TfidfVectorizer(ngram_range=(1,2))),\n",
    "                    (\"cls\", RandomForestClassifier(n_estimators= 50))])\n",
    "    pipeline.fit(train_x, train_y)\n",
    "    \n",
    "    prediction = [semantic_hard_complaint_rule(x) for x in test_x]\n",
    "    for i, pred in enumerate(prediction):\n",
    "        if pred != 1:\n",
    "            prediction[i] = pipeline.predict([test_x[i]])[0]\n",
    "    f1_score.append(classification_report(y_pred= prediction, y_true= test_y, output_dict= True)['micro avg']['f1-score'])\n",
    "    \n",
    "print(\"Average f1-score: {}\".format(np.mean(f1_score)))"
   ]
  },
  {
   "cell_type": "code",
   "execution_count": 22,
   "metadata": {},
   "outputs": [
    {
     "name": "stdout",
     "output_type": "stream",
     "text": [
      "Average f1-score: 0.9546517412935323\n"
     ]
    }
   ],
   "source": [
    "## raw-data, using TF-IDF with normalizer and minimum occurence\n",
    "f1_score = []\n",
    "for train_idx, test_idx in kf.split(chat_data):\n",
    "    train_x, test_x = chat_data_normalized[train_idx], chat_data_normalized[test_idx]\n",
    "    train_y, test_y = chat_label[train_idx], chat_label[test_idx]\n",
    "    \n",
    "    pipeline = Pipeline([(\"enc\", TfidfVectorizer(ngram_range=(1,2), min_df= 2)),\n",
    "                    (\"cls\", RandomForestClassifier(n_estimators= 50))])\n",
    "    pipeline.fit(train_x, train_y)\n",
    "    \n",
    "    prediction = [semantic_hard_complaint_rule(x) for x in test_x]\n",
    "    for i, pred in enumerate(prediction):\n",
    "        if pred != 1:\n",
    "            prediction[i] = pipeline.predict([test_x[i]])[0]\n",
    "    f1_score.append(classification_report(y_pred= prediction, y_true= test_y, output_dict= True)['micro avg']['f1-score'])\n",
    "    \n",
    "print(\"Average f1-score: {}\".format(np.mean(f1_score)))"
   ]
  }
 ],
 "metadata": {
  "kernelspec": {
   "display_name": "Python 3",
   "language": "python",
   "name": "python3"
  },
  "language_info": {
   "codemirror_mode": {
    "name": "ipython",
    "version": 3
   },
   "file_extension": ".py",
   "mimetype": "text/x-python",
   "name": "python",
   "nbconvert_exporter": "python",
   "pygments_lexer": "ipython3",
   "version": "3.5.2"
  }
 },
 "nbformat": 4,
 "nbformat_minor": 2
}
