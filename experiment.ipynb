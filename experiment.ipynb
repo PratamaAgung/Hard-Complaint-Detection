{
 "cells": [
  {
   "cell_type": "code",
   "execution_count": 1,
   "metadata": {},
   "outputs": [],
   "source": [
    "import csv\n",
    "from sklearn.model_selection import train_test_split, KFold\n",
    "from sklearn.metrics import classification_report\n",
    "from sklearn.svm import LinearSVC, SVC\n",
    "from sklearn.pipeline import Pipeline\n",
    "from sklearn.feature_extraction.text import CountVectorizer, TfidfVectorizer\n",
    "from sklearn.ensemble import RandomForestClassifier\n",
    "import numpy as np\n",
    "import requests\n",
    "import json"
   ]
  },
  {
   "cell_type": "code",
   "execution_count": 2,
   "metadata": {},
   "outputs": [],
   "source": [
    "def semantic_hard_complaint_rule(chat):\n",
    "    chat = str(chat)\n",
    "    disappointed_words = [\"kecewa\", \"tidak puas\", \"kurang puas\", \"brengsek\", \"bangsat\", \"brgsk\", \"bgst\", \"anjing\"]\n",
    "    for dw in disappointed_words:\n",
    "        if dw in chat:\n",
    "            return 1\n",
    "    return 0\n",
    "\n",
    "def formalizer(string):\n",
    "    req = requests.post(\"http://127.0.0.1:9000/formalizer\", json= {\"string\": string})\n",
    "    response = req.json()\n",
    "    if response['status'] == 'success':\n",
    "        return response['data']\n",
    "    else:\n",
    "        print('formalizer ' + str(response) + str(string))\n",
    "        return None"
   ]
  },
  {
   "cell_type": "code",
   "execution_count": 23,
   "metadata": {},
   "outputs": [],
   "source": [
    "import pandas as pd\n",
    "data = pd.read_csv(\"complaint_data.csv\")"
   ]
  },
  {
   "cell_type": "code",
   "execution_count": 24,
   "metadata": {},
   "outputs": [],
   "source": [
    "chat_data = np.array(data['Chat'].values.tolist())\n",
    "chat_label = np.array(data['Label'].values.tolist())"
   ]
  },
  {
   "cell_type": "code",
   "execution_count": 25,
   "metadata": {},
   "outputs": [],
   "source": [
    "chat_data_normalized = []\n",
    "for chat in chat_data:\n",
    "    chat_data_normalized.append(formalizer(chat))\n",
    "\n",
    "chat_data_normalized = np.array(chat_data_normalized)"
   ]
  },
  {
   "cell_type": "code",
   "execution_count": 6,
   "metadata": {},
   "outputs": [],
   "source": [
    "kf = KFold(n_splits= 10, shuffle= True)"
   ]
  },
  {
   "cell_type": "markdown",
   "metadata": {},
   "source": [
    "## Only Using Rule-Based"
   ]
  },
  {
   "cell_type": "code",
   "execution_count": 30,
   "metadata": {},
   "outputs": [
    {
     "name": "stdout",
     "output_type": "stream",
     "text": [
      "Average f1-score: 0.7656577193984389\n"
     ]
    }
   ],
   "source": [
    "## raw-data\n",
    "f1_score = []\n",
    "for train_idx, test_idx in kf.split(chat_data):\n",
    "    train_x, test_x = chat_data[train_idx], chat_data[test_idx]\n",
    "    train_y, test_y = chat_label[train_idx], chat_label[test_idx]\n",
    "    \n",
    "    prediction = [semantic_hard_complaint_rule(x) for x in test_x]\n",
    "    f1_score.append(classification_report(y_pred= prediction, y_true= test_y, output_dict= True)['micro avg']['f1-score'])\n",
    "    \n",
    "print(\"Average f1-score: {}\".format(np.mean(f1_score)))"
   ]
  },
  {
   "cell_type": "code",
   "execution_count": 31,
   "metadata": {},
   "outputs": [
    {
     "name": "stdout",
     "output_type": "stream",
     "text": [
      "Average f1-score: 0.7656101275461641\n"
     ]
    }
   ],
   "source": [
    "## raw-data\n",
    "f1_score = []\n",
    "for train_idx, test_idx in kf.split(chat_label):\n",
    "    train_x, test_x = chat_data_normalized[train_idx], chat_data_normalized[test_idx]\n",
    "    train_y, test_y = chat_label[train_idx], chat_label[test_idx]\n",
    "    \n",
    "    prediction = [semantic_hard_complaint_rule(x) for x in np.nditer(test_x)]\n",
    "    f1_score.append(classification_report(y_pred= prediction, y_true= test_y, output_dict= True)['micro avg']['f1-score'])\n",
    "    \n",
    "print(\"Average f1-score: {}\".format(np.mean(f1_score)))"
   ]
  },
  {
   "cell_type": "markdown",
   "metadata": {},
   "source": [
    "## Using LinearSVC"
   ]
  },
  {
   "cell_type": "code",
   "execution_count": 35,
   "metadata": {},
   "outputs": [
    {
     "name": "stdout",
     "output_type": "stream",
     "text": [
      "Average f1-score: 0.9591471540072339\n"
     ]
    }
   ],
   "source": [
    "## raw-data, using TF\n",
    "f1_score = []\n",
    "for train_idx, test_idx in kf.split(chat_data):\n",
    "    train_x, test_x = chat_data[train_idx], chat_data[test_idx]\n",
    "    train_y, test_y = chat_label[train_idx], chat_label[test_idx]\n",
    "    \n",
    "    pipeline = Pipeline([(\"enc\", CountVectorizer(ngram_range=(1,2))),\n",
    "                        (\"cls\", LinearSVC())])\n",
    "    pipeline.fit(train_x, train_y)\n",
    "    \n",
    "    prediction = [semantic_hard_complaint_rule(x) for x in test_x]\n",
    "    for i, pred in enumerate(prediction):\n",
    "        if pred != 1:\n",
    "            prediction[i] = pipeline.predict([test_x[i]])[0]\n",
    "    f1_score.append(classification_report(y_pred= prediction, y_true= test_y, output_dict= True)['micro avg']['f1-score'])\n",
    "    \n",
    "print(\"Average f1-score: {}\".format(np.mean(f1_score)))"
   ]
  },
  {
   "cell_type": "code",
   "execution_count": 42,
   "metadata": {},
   "outputs": [
    {
     "name": "stdout",
     "output_type": "stream",
     "text": [
      "Average f1-score: 0.9562821245002855\n"
     ]
    }
   ],
   "source": [
    "## raw-data, using TF with normalizer\n",
    "f1_score = []\n",
    "for train_idx, test_idx in kf.split(chat_data):\n",
    "    train_x, test_x = chat_data_normalized[train_idx], chat_data_normalized[test_idx]\n",
    "    train_y, test_y = chat_label[train_idx], chat_label[test_idx]\n",
    "    \n",
    "    pipeline = Pipeline([(\"enc\", CountVectorizer(ngram_range=(1,2))),\n",
    "                        (\"cls\", LinearSVC())])\n",
    "    pipeline.fit(train_x, train_y)\n",
    "    \n",
    "    prediction = [semantic_hard_complaint_rule(x) for x in test_x]\n",
    "    for i, pred in enumerate(prediction):\n",
    "        if pred != 1:\n",
    "            prediction[i] = pipeline.predict([test_x[i]])[0]\n",
    "    f1_score.append(classification_report(y_pred= prediction, y_true= test_y, output_dict= True)['micro avg']['f1-score'])\n",
    "    \n",
    "print(\"Average f1-score: {}\".format(np.mean(f1_score)))"
   ]
  },
  {
   "cell_type": "code",
   "execution_count": 43,
   "metadata": {},
   "outputs": [
    {
     "name": "stdout",
     "output_type": "stream",
     "text": [
      "Average f1-score: 0.9513516086046069\n"
     ]
    }
   ],
   "source": [
    "## raw-data, using TF with minimum occurence and normalizer\n",
    "f1_score = []\n",
    "for train_idx, test_idx in kf.split(chat_data):\n",
    "    train_x, test_x = chat_data_normalized[train_idx], chat_data_normalized[test_idx]\n",
    "    train_y, test_y = chat_label[train_idx], chat_label[test_idx]\n",
    "    \n",
    "    pipeline = Pipeline([(\"enc\", CountVectorizer(ngram_range=(1,2), min_df= 2)),\n",
    "                        (\"cls\", LinearSVC())])\n",
    "    pipeline.fit(train_x, train_y)\n",
    "    \n",
    "    prediction = [semantic_hard_complaint_rule(x) for x in test_x]\n",
    "    for i, pred in enumerate(prediction):\n",
    "        if pred != 1:\n",
    "            prediction[i] = pipeline.predict([test_x[i]])[0]\n",
    "    f1_score.append(classification_report(y_pred= prediction, y_true= test_y, output_dict= True)['micro avg']['f1-score'])\n",
    "    \n",
    "print(\"Average f1-score: {}\".format(np.mean(f1_score)))"
   ]
  },
  {
   "cell_type": "code",
   "execution_count": 35,
   "metadata": {},
   "outputs": [
    {
     "name": "stdout",
     "output_type": "stream",
     "text": [
      "Average f1-score: 0.9620692937369123\n"
     ]
    }
   ],
   "source": [
    "## raw-data, using TF-IDF\n",
    "f1_score = []\n",
    "for train_idx, test_idx in kf.split(chat_data):\n",
    "    train_x, test_x = chat_data[train_idx], chat_data[test_idx]\n",
    "    train_y, test_y = chat_label[train_idx], chat_label[test_idx]\n",
    "    \n",
    "    pipeline = Pipeline([(\"enc\", TfidfVectorizer(ngram_range=(1,2))),\n",
    "                        (\"cls\", LinearSVC())])\n",
    "    pipeline.fit(train_x, train_y)\n",
    "    \n",
    "    prediction = [semantic_hard_complaint_rule(x) for x in test_x]\n",
    "    for i, pred in enumerate(prediction):\n",
    "        if pred != 1:\n",
    "            prediction[i] = pipeline.predict([test_x[i]])[0]\n",
    "    f1_score.append(classification_report(y_pred= prediction, y_true= test_y, output_dict= True)['micro avg']['f1-score'])\n",
    "    \n",
    "print(\"Average f1-score: {}\".format(np.mean(f1_score)))"
   ]
  },
  {
   "cell_type": "code",
   "execution_count": 39,
   "metadata": {},
   "outputs": [
    {
     "name": "stdout",
     "output_type": "stream",
     "text": [
      "Average f1-score: 0.9649628783552255\n"
     ]
    }
   ],
   "source": [
    "## raw-data, using TF-IDF and minimum occurence and normalizer\n",
    "f1_score = []\n",
    "for train_idx, test_idx in kf.split(chat_data):\n",
    "    train_x, test_x = chat_data_normalized[train_idx], chat_data_normalized[test_idx]\n",
    "    train_y, test_y = chat_label[train_idx], chat_label[test_idx]\n",
    "    \n",
    "    pipeline = Pipeline([(\"enc\", TfidfVectorizer(ngram_range=(1,2), min_df= 2)),\n",
    "                        (\"cls\", LinearSVC())])\n",
    "    pipeline.fit(train_x, train_y)\n",
    "    \n",
    "    prediction = [semantic_hard_complaint_rule(x) for x in test_x]\n",
    "    for i, pred in enumerate(prediction):\n",
    "        if pred != 1:\n",
    "            prediction[i] = pipeline.predict([test_x[i]])[0]\n",
    "    f1_score.append(classification_report(y_pred= prediction, y_true= test_y, output_dict= True)['micro avg']['f1-score'])\n",
    "    \n",
    "print(\"Average f1-score: {}\".format(np.mean(f1_score)))"
   ]
  },
  {
   "cell_type": "code",
   "execution_count": 40,
   "metadata": {},
   "outputs": [
    {
     "name": "stdout",
     "output_type": "stream",
     "text": [
      "Average f1-score: 0.9640491147915476\n"
     ]
    }
   ],
   "source": [
    "## raw-data, using TF-IDF with normalizer \n",
    "f1_score = []\n",
    "for train_idx, test_idx in kf.split(chat_data):\n",
    "    train_x, test_x = chat_data_normalized[train_idx], chat_data_normalized[test_idx]\n",
    "    train_y, test_y = chat_label[train_idx], chat_label[test_idx]\n",
    "    \n",
    "    pipeline = Pipeline([(\"enc\", TfidfVectorizer(ngram_range=(1,2))),\n",
    "                        (\"cls\", LinearSVC())])\n",
    "    pipeline.fit(train_x, train_y)\n",
    "    \n",
    "    prediction = [semantic_hard_complaint_rule(x) for x in test_x]\n",
    "    for i, pred in enumerate(prediction):\n",
    "        if pred != 1:\n",
    "            prediction[i] = pipeline.predict([test_x[i]])[0]\n",
    "    f1_score.append(classification_report(y_pred= prediction, y_true= test_y, output_dict= True)['micro avg']['f1-score'])\n",
    "    \n",
    "print(\"Average f1-score: {}\".format(np.mean(f1_score)))"
   ]
  },
  {
   "cell_type": "markdown",
   "metadata": {},
   "source": [
    "## Using RandomForest"
   ]
  },
  {
   "cell_type": "code",
   "execution_count": 37,
   "metadata": {},
   "outputs": [
    {
     "name": "stdout",
     "output_type": "stream",
     "text": [
      "Average f1-score: 0.947449076718066\n"
     ]
    }
   ],
   "source": [
    "## raw-data, using TF\n",
    "f1_score = []\n",
    "for train_idx, test_idx in kf.split(chat_data):\n",
    "    train_x, test_x = chat_data[train_idx], chat_data[test_idx]\n",
    "    train_y, test_y = chat_label[train_idx], chat_label[test_idx]\n",
    "    \n",
    "    pipeline = Pipeline([(\"enc\", CountVectorizer(ngram_range=(1,2))),\n",
    "                    (\"cls\", RandomForestClassifier(n_estimators= 50))])\n",
    "    pipeline.fit(train_x, train_y)\n",
    "    \n",
    "    prediction = [semantic_hard_complaint_rule(x) for x in test_x]\n",
    "    for i, pred in enumerate(prediction):\n",
    "        if pred != 1:\n",
    "            prediction[i] = pipeline.predict([test_x[i]])[0]\n",
    "    f1_score.append(classification_report(y_pred= prediction, y_true= test_y, output_dict= True)['micro avg']['f1-score'])\n",
    "    \n",
    "print(\"Average f1-score: {}\".format(np.mean(f1_score)))"
   ]
  },
  {
   "cell_type": "code",
   "execution_count": 44,
   "metadata": {},
   "outputs": [
    {
     "name": "stdout",
     "output_type": "stream",
     "text": [
      "Average f1-score: 0.9464972396725682\n"
     ]
    }
   ],
   "source": [
    "## raw-data, using TF and normalizer\n",
    "f1_score = []\n",
    "for train_idx, test_idx in kf.split(chat_data):\n",
    "    train_x, test_x = chat_data_normalized[train_idx], chat_data_normalized[test_idx]\n",
    "    train_y, test_y = chat_label[train_idx], chat_label[test_idx]\n",
    "    \n",
    "    pipeline = Pipeline([(\"enc\", CountVectorizer(ngram_range=(1,2))),\n",
    "                    (\"cls\", RandomForestClassifier(n_estimators= 50))])\n",
    "    pipeline.fit(train_x, train_y)\n",
    "    \n",
    "    prediction = [semantic_hard_complaint_rule(x) for x in test_x]\n",
    "    for i, pred in enumerate(prediction):\n",
    "        if pred != 1:\n",
    "            prediction[i] = pipeline.predict([test_x[i]])[0]\n",
    "    f1_score.append(classification_report(y_pred= prediction, y_true= test_y, output_dict= True)['micro avg']['f1-score'])\n",
    "    \n",
    "print(\"Average f1-score: {}\".format(np.mean(f1_score)))"
   ]
  },
  {
   "cell_type": "code",
   "execution_count": 45,
   "metadata": {},
   "outputs": [
    {
     "name": "stdout",
     "output_type": "stream",
     "text": [
      "Average f1-score: 0.9484009137635636\n"
     ]
    }
   ],
   "source": [
    "## raw-data, using TF and normalizer with minimum occurence\n",
    "f1_score = []\n",
    "for train_idx, test_idx in kf.split(chat_data):\n",
    "    train_x, test_x = chat_data_normalized[train_idx], chat_data_normalized[test_idx]\n",
    "    train_y, test_y = chat_label[train_idx], chat_label[test_idx]\n",
    "    \n",
    "    pipeline = Pipeline([(\"enc\", CountVectorizer(ngram_range=(1,2), min_df= 2)),\n",
    "                    (\"cls\", RandomForestClassifier(n_estimators= 50))])\n",
    "    pipeline.fit(train_x, train_y)\n",
    "    \n",
    "    prediction = [semantic_hard_complaint_rule(x) for x in test_x]\n",
    "    for i, pred in enumerate(prediction):\n",
    "        if pred != 1:\n",
    "            prediction[i] = pipeline.predict([test_x[i]])[0]\n",
    "    f1_score.append(classification_report(y_pred= prediction, y_true= test_y, output_dict= True)['micro avg']['f1-score'])\n",
    "    \n",
    "print(\"Average f1-score: {}\".format(np.mean(f1_score)))"
   ]
  },
  {
   "cell_type": "code",
   "execution_count": 38,
   "metadata": {},
   "outputs": [
    {
     "name": "stdout",
     "output_type": "stream",
     "text": [
      "Average f1-score: 0.9474585950885208\n"
     ]
    }
   ],
   "source": [
    "## raw-data, using TF-IDF\n",
    "f1_score = []\n",
    "for train_idx, test_idx in kf.split(chat_data):\n",
    "    train_x, test_x = chat_data[train_idx], chat_data[test_idx]\n",
    "    train_y, test_y = chat_label[train_idx], chat_label[test_idx]\n",
    "    \n",
    "    pipeline = Pipeline([(\"enc\", TfidfVectorizer(ngram_range=(1,2))),\n",
    "                    (\"cls\", RandomForestClassifier(n_estimators= 50))])\n",
    "    pipeline.fit(train_x, train_y)\n",
    "    \n",
    "    prediction = [semantic_hard_complaint_rule(x) for x in test_x]\n",
    "    for i, pred in enumerate(prediction):\n",
    "        if pred != 1:\n",
    "            prediction[i] = pipeline.predict([test_x[i]])[0]\n",
    "    f1_score.append(classification_report(y_pred= prediction, y_true= test_y, output_dict= True)['micro avg']['f1-score'])\n",
    "    \n",
    "print(\"Average f1-score: {}\".format(np.mean(f1_score)))"
   ]
  },
  {
   "cell_type": "code",
   "execution_count": 46,
   "metadata": {},
   "outputs": [
    {
     "name": "stdout",
     "output_type": "stream",
     "text": [
      "Average f1-score: 0.9474776318294309\n"
     ]
    }
   ],
   "source": [
    "## raw-data, using TF-IDF with normalizer\n",
    "f1_score = []\n",
    "for train_idx, test_idx in kf.split(chat_data):\n",
    "    train_x, test_x = chat_data_normalized[train_idx], chat_data_normalized[test_idx]\n",
    "    train_y, test_y = chat_label[train_idx], chat_label[test_idx]\n",
    "    \n",
    "    pipeline = Pipeline([(\"enc\", TfidfVectorizer(ngram_range=(1,2))),\n",
    "                    (\"cls\", RandomForestClassifier(n_estimators= 50))])\n",
    "    pipeline.fit(train_x, train_y)\n",
    "    \n",
    "    prediction = [semantic_hard_complaint_rule(x) for x in test_x]\n",
    "    for i, pred in enumerate(prediction):\n",
    "        if pred != 1:\n",
    "            prediction[i] = pipeline.predict([test_x[i]])[0]\n",
    "    f1_score.append(classification_report(y_pred= prediction, y_true= test_y, output_dict= True)['micro avg']['f1-score'])\n",
    "    \n",
    "print(\"Average f1-score: {}\".format(np.mean(f1_score)))"
   ]
  },
  {
   "cell_type": "code",
   "execution_count": 47,
   "metadata": {},
   "outputs": [
    {
     "name": "stdout",
     "output_type": "stream",
     "text": [
      "Average f1-score: 0.9513420902341518\n"
     ]
    }
   ],
   "source": [
    "## raw-data, using TF-IDF with normalizer and minimum occurence\n",
    "f1_score = []\n",
    "for train_idx, test_idx in kf.split(chat_data):\n",
    "    train_x, test_x = chat_data_normalized[train_idx], chat_data_normalized[test_idx]\n",
    "    train_y, test_y = chat_label[train_idx], chat_label[test_idx]\n",
    "    \n",
    "    pipeline = Pipeline([(\"enc\", TfidfVectorizer(ngram_range=(1,2), min_df= 2)),\n",
    "                    (\"cls\", RandomForestClassifier(n_estimators= 50))])\n",
    "    pipeline.fit(train_x, train_y)\n",
    "    \n",
    "    prediction = [semantic_hard_complaint_rule(x) for x in test_x]\n",
    "    for i, pred in enumerate(prediction):\n",
    "        if pred != 1:\n",
    "            prediction[i] = pipeline.predict([test_x[i]])[0]\n",
    "    f1_score.append(classification_report(y_pred= prediction, y_true= test_y, output_dict= True)['micro avg']['f1-score'])\n",
    "    \n",
    "print(\"Average f1-score: {}\".format(np.mean(f1_score)))"
   ]
  }
 ],
 "metadata": {
  "kernelspec": {
   "display_name": "Python 3",
   "language": "python",
   "name": "python3"
  },
  "language_info": {
   "codemirror_mode": {
    "name": "ipython",
    "version": 3
   },
   "file_extension": ".py",
   "mimetype": "text/x-python",
   "name": "python",
   "nbconvert_exporter": "python",
   "pygments_lexer": "ipython3",
   "version": "3.5.2"
  }
 },
 "nbformat": 4,
 "nbformat_minor": 2
}
