{
 "cells": [
  {
   "cell_type": "code",
   "execution_count": 1,
   "metadata": {},
   "outputs": [],
   "source": [
    "import csv\n",
    "import re\n",
    "import numpy as np\n",
    "from sklearn.model_selection import train_test_split, KFold\n",
    "from sklearn.metrics import classification_report\n",
    "from sklearn.svm import LinearSVC, SVC\n",
    "from sklearn.pipeline import Pipeline\n",
    "from sklearn.feature_extraction.text import CountVectorizer, TfidfVectorizer\n",
    "from sklearn.ensemble import RandomForestClassifier"
   ]
  },
  {
   "cell_type": "code",
   "execution_count": 2,
   "metadata": {},
   "outputs": [],
   "source": [
    "def semantic_hard_complaint_rule(chat):\n",
    "    chat = str(chat)\n",
    "    disappointed_words = [\"kecewa\", \"tidak puas\", \"kurang puas\", \"brengsek\", \"bangsat\", \"brgsk\", \"bgst\", \"anjing\"]\n",
    "    for dw in disappointed_words:\n",
    "        if dw in chat:\n",
    "            return 1\n",
    "    return 0"
   ]
  },
  {
   "cell_type": "code",
   "execution_count": 3,
   "metadata": {},
   "outputs": [],
   "source": [
    "chat_opening = []\n",
    "with open(\"opening_chat_for_fasttext.csv\") as file:\n",
    "    readCSV = csv.reader(file)\n",
    "    for row in readCSV:\n",
    "        chat = row[0].lower()\n",
    "        chat = re.sub(r\"\\.|\\?|,|#|!|\\n\", \"\", chat)\n",
    "        chat_opening.append(chat.split(' '))"
   ]
  },
  {
   "cell_type": "code",
   "execution_count": 10,
   "metadata": {},
   "outputs": [],
   "source": [
    "from gensim.models import FastText\n",
    "from gensim.test.utils import common_texts\n",
    "\n",
    "size_output = 128\n",
    "model = FastText(chat_opening, size= size_output, window= 5)"
   ]
  },
  {
   "cell_type": "code",
   "execution_count": 11,
   "metadata": {},
   "outputs": [],
   "source": [
    "import pandas as pd\n",
    "data = pd.read_csv(\"complaint_data.csv\")"
   ]
  },
  {
   "cell_type": "code",
   "execution_count": 12,
   "metadata": {},
   "outputs": [],
   "source": [
    "chat_data = np.array(data['Chat'].values.tolist())\n",
    "chat_label = np.array(data['Label'].values.tolist())"
   ]
  },
  {
   "cell_type": "code",
   "execution_count": 25,
   "metadata": {},
   "outputs": [],
   "source": [
    "for i, chat in enumerate(chat_data):\n",
    "    chat = chat.lower()\n",
    "    chat = re.sub(r\"\\.|\\?|,|#|!|\\n\", \"\", chat)\n",
    "    chat = re.sub(r\"[A-Z]*[0-9]+[A-Z]*\", \"\", chat)\n",
    "    chat_data[i] = chat\n",
    "    \n",
    "vect = TfidfVectorizer()\n",
    "transformed = vect.fit_transform(chat_data)\n",
    "index_value={i[1]:i[0] for i in vect.vocabulary_.items()}\n",
    "\n",
    "fully_indexed = []\n",
    "for row in transformed:\n",
    "    fully_indexed.append({index_value[column]:value for (column,value) in zip(row.indices,row.data)})"
   ]
  },
  {
   "cell_type": "code",
   "execution_count": 19,
   "metadata": {},
   "outputs": [],
   "source": [
    "chat_encoded = []\n",
    "for chat in chat_data:\n",
    "    encoded_words = []\n",
    "    for w in chat.split(' '):\n",
    "        if len(w) > 1:\n",
    "            try:\n",
    "                encoded_words.append(model.wv[w])\n",
    "            except:\n",
    "                continue\n",
    "    if len(encoded_words) > 0:\n",
    "        chat_encoded.append(np.mean(encoded_words, axis= 0))\n",
    "    else:\n",
    "        chat_encoded.append(np.zeros(size_output))\n",
    "\n",
    "chat_encoded = np.array(chat_encoded)"
   ]
  },
  {
   "cell_type": "code",
   "execution_count": 35,
   "metadata": {},
   "outputs": [
    {
     "name": "stdout",
     "output_type": "stream",
     "text": [
      "[]\n",
      "14\n",
      "-----------\n"
     ]
    },
    {
     "name": "stderr",
     "output_type": "stream",
     "text": [
      "/usr/local/lib/python3.5/dist-packages/gensim/matutils.py:737: FutureWarning: Conversion of the second argument of issubdtype from `int` to `np.signedinteger` is deprecated. In future, it will be treated as `np.int64 == np.dtype(int).type`.\n",
      "  if np.issubdtype(vec.dtype, np.int):\n"
     ]
    },
    {
     "ename": "ValueError",
     "evalue": "Length of weights not compatible with specified axis.",
     "output_type": "error",
     "traceback": [
      "\u001b[0;31m---------------------------------------------------------------------------\u001b[0m",
      "\u001b[0;31mValueError\u001b[0m                                Traceback (most recent call last)",
      "\u001b[0;32m<ipython-input-35-5d92d87861c7>\u001b[0m in \u001b[0;36m<module>\u001b[0;34m()\u001b[0m\n\u001b[1;32m     22\u001b[0m         \u001b[0mprint\u001b[0m\u001b[0;34m(\u001b[0m\u001b[0mlen\u001b[0m\u001b[0;34m(\u001b[0m\u001b[0mencoded_words\u001b[0m\u001b[0;34m)\u001b[0m\u001b[0;34m)\u001b[0m\u001b[0;34m\u001b[0m\u001b[0m\n\u001b[1;32m     23\u001b[0m         \u001b[0mprint\u001b[0m\u001b[0;34m(\u001b[0m\u001b[0;34m\"-----------\"\u001b[0m\u001b[0;34m)\u001b[0m\u001b[0;34m\u001b[0m\u001b[0m\n\u001b[0;32m---> 24\u001b[0;31m         \u001b[0mchat_tf_idf\u001b[0m\u001b[0;34m.\u001b[0m\u001b[0mappend\u001b[0m\u001b[0;34m(\u001b[0m\u001b[0mnp\u001b[0m\u001b[0;34m.\u001b[0m\u001b[0maverage\u001b[0m\u001b[0;34m(\u001b[0m\u001b[0mencoded_words\u001b[0m\u001b[0;34m,\u001b[0m \u001b[0maxis\u001b[0m\u001b[0;34m=\u001b[0m \u001b[0;36m0\u001b[0m\u001b[0;34m,\u001b[0m \u001b[0mweights\u001b[0m\u001b[0;34m=\u001b[0m \u001b[0mweights\u001b[0m\u001b[0;34m)\u001b[0m\u001b[0;34m)\u001b[0m\u001b[0;34m\u001b[0m\u001b[0m\n\u001b[0m\u001b[1;32m     25\u001b[0m     \u001b[0;32melse\u001b[0m\u001b[0;34m:\u001b[0m\u001b[0;34m\u001b[0m\u001b[0m\n\u001b[1;32m     26\u001b[0m         \u001b[0mchat_tf_idf\u001b[0m\u001b[0;34m.\u001b[0m\u001b[0mappend\u001b[0m\u001b[0;34m(\u001b[0m\u001b[0mnp\u001b[0m\u001b[0;34m.\u001b[0m\u001b[0mzeros\u001b[0m\u001b[0;34m(\u001b[0m\u001b[0msize_output\u001b[0m\u001b[0;34m)\u001b[0m\u001b[0;34m)\u001b[0m\u001b[0;34m\u001b[0m\u001b[0m\n",
      "\u001b[0;32m/usr/local/lib/python3.5/dist-packages/numpy/lib/function_base.py\u001b[0m in \u001b[0;36maverage\u001b[0;34m(a, axis, weights, returned)\u001b[0m\n\u001b[1;32m    375\u001b[0m             \u001b[0;32mif\u001b[0m \u001b[0mwgt\u001b[0m\u001b[0;34m.\u001b[0m\u001b[0mshape\u001b[0m\u001b[0;34m[\u001b[0m\u001b[0;36m0\u001b[0m\u001b[0;34m]\u001b[0m \u001b[0;34m!=\u001b[0m \u001b[0ma\u001b[0m\u001b[0;34m.\u001b[0m\u001b[0mshape\u001b[0m\u001b[0;34m[\u001b[0m\u001b[0maxis\u001b[0m\u001b[0;34m]\u001b[0m\u001b[0;34m:\u001b[0m\u001b[0;34m\u001b[0m\u001b[0m\n\u001b[1;32m    376\u001b[0m                 raise ValueError(\n\u001b[0;32m--> 377\u001b[0;31m                     \"Length of weights not compatible with specified axis.\")\n\u001b[0m\u001b[1;32m    378\u001b[0m \u001b[0;34m\u001b[0m\u001b[0m\n\u001b[1;32m    379\u001b[0m             \u001b[0;31m# setup wgt to broadcast along axis\u001b[0m\u001b[0;34m\u001b[0m\u001b[0;34m\u001b[0m\u001b[0m\n",
      "\u001b[0;31mValueError\u001b[0m: Length of weights not compatible with specified axis."
     ]
    }
   ],
   "source": [
    "chat_tf_idf = []\n",
    "for chat in chat_data:\n",
    "    encoded_words = []\n",
    "    weights = []\n",
    "    sum = 0\n",
    "    for w in chat.split(' '):\n",
    "        if len(w) > 1:\n",
    "            try:\n",
    "                encoded_words.append(model.wv[w])\n",
    "                if w in fully_indexed:\n",
    "                    weights.append(fully_indexed[w])\n",
    "                    sum += fully_indexed[w]\n",
    "                else:\n",
    "                    most_similar = model.wv.most_similar(positive=[w])[0][0]\n",
    "                    print(fully_indexed[most_similar])\n",
    "                    weights.append(fully_indexed[most_similar])\n",
    "                    sum += fully_indexed[most_similar]\n",
    "            except:\n",
    "                continue\n",
    "    if len(encoded_words) > 0:\n",
    "        print((weights))\n",
    "        print(len(encoded_words))\n",
    "        print(\"-----------\")\n",
    "        chat_tf_idf.append(np.average(encoded_words, axis= 0, weights= weights))\n",
    "    else:\n",
    "        chat_tf_idf.append(np.zeros(size_output))\n",
    "\n",
    "chat_tf_idf = np.array(chat_tf_idf)"
   ]
  },
  {
   "cell_type": "code",
   "execution_count": 14,
   "metadata": {},
   "outputs": [],
   "source": [
    "kf = KFold(n_splits= 10, shuffle= True)"
   ]
  },
  {
   "cell_type": "code",
   "execution_count": 20,
   "metadata": {},
   "outputs": [
    {
     "name": "stdout",
     "output_type": "stream",
     "text": [
      "              precision    recall  f1-score   support\n",
      "\n",
      "           0       1.00      0.95      0.97        57\n",
      "           1       0.94      1.00      0.97        46\n",
      "\n",
      "   micro avg       0.97      0.97      0.97       103\n",
      "   macro avg       0.97      0.97      0.97       103\n",
      "weighted avg       0.97      0.97      0.97       103\n",
      "\n",
      "              precision    recall  f1-score   support\n",
      "\n",
      "           0       0.93      0.82      0.87        49\n",
      "           1       0.85      0.94      0.89        54\n",
      "\n",
      "   micro avg       0.88      0.88      0.88       103\n",
      "   macro avg       0.89      0.88      0.88       103\n",
      "weighted avg       0.89      0.88      0.88       103\n",
      "\n",
      "              precision    recall  f1-score   support\n",
      "\n",
      "           0       0.89      0.81      0.85        52\n",
      "           1       0.82      0.90      0.86        51\n",
      "\n",
      "   micro avg       0.85      0.85      0.85       103\n",
      "   macro avg       0.86      0.85      0.85       103\n",
      "weighted avg       0.86      0.85      0.85       103\n",
      "\n",
      "              precision    recall  f1-score   support\n",
      "\n",
      "           0       0.90      0.83      0.86        53\n",
      "           1       0.83      0.90      0.87        50\n",
      "\n",
      "   micro avg       0.86      0.86      0.86       103\n",
      "   macro avg       0.87      0.87      0.86       103\n",
      "weighted avg       0.87      0.86      0.86       103\n",
      "\n",
      "              precision    recall  f1-score   support\n",
      "\n",
      "           0       0.93      0.85      0.89        48\n",
      "           1       0.88      0.95      0.91        55\n",
      "\n",
      "   micro avg       0.90      0.90      0.90       103\n",
      "   macro avg       0.91      0.90      0.90       103\n",
      "weighted avg       0.90      0.90      0.90       103\n",
      "\n",
      "              precision    recall  f1-score   support\n",
      "\n",
      "           0       0.91      0.97      0.94        63\n",
      "           1       0.94      0.85      0.89        40\n",
      "\n",
      "   micro avg       0.92      0.92      0.92       103\n",
      "   macro avg       0.93      0.91      0.92       103\n",
      "weighted avg       0.92      0.92      0.92       103\n",
      "\n",
      "              precision    recall  f1-score   support\n",
      "\n",
      "           0       1.00      0.88      0.94        50\n",
      "           1       0.90      1.00      0.95        53\n",
      "\n",
      "   micro avg       0.94      0.94      0.94       103\n",
      "   macro avg       0.95      0.94      0.94       103\n",
      "weighted avg       0.95      0.94      0.94       103\n",
      "\n",
      "              precision    recall  f1-score   support\n",
      "\n",
      "           0       1.00      0.85      0.92        54\n",
      "           1       0.86      1.00      0.92        49\n",
      "\n",
      "   micro avg       0.92      0.92      0.92       103\n",
      "   macro avg       0.93      0.93      0.92       103\n",
      "weighted avg       0.93      0.92      0.92       103\n",
      "\n",
      "              precision    recall  f1-score   support\n",
      "\n",
      "           0       0.89      0.81      0.85        52\n",
      "           1       0.82      0.90      0.86        50\n",
      "\n",
      "   micro avg       0.85      0.85      0.85       102\n",
      "   macro avg       0.86      0.85      0.85       102\n",
      "weighted avg       0.86      0.85      0.85       102\n",
      "\n",
      "              precision    recall  f1-score   support\n",
      "\n",
      "           0       0.95      0.75      0.84        51\n",
      "           1       0.79      0.96      0.87        51\n",
      "\n",
      "   micro avg       0.85      0.85      0.85       102\n",
      "   macro avg       0.87      0.85      0.85       102\n",
      "weighted avg       0.87      0.85      0.85       102\n",
      "\n",
      "Average f1-score: 0.8968018275271274\n"
     ]
    }
   ],
   "source": [
    "f1_score = []\n",
    "for train_idx, test_idx in kf.split(chat_data):\n",
    "    train_x, test_x = chat_encoded[train_idx], chat_encoded[test_idx]\n",
    "    train_y, test_y = chat_label[train_idx], chat_label[test_idx]\n",
    "    cls = LinearSVC()\n",
    "#     print(train_x.shape)\n",
    "    cls.fit(train_x, train_y)\n",
    "    \n",
    "    prediction = []\n",
    "    for idx in test_idx:\n",
    "        pred = semantic_hard_complaint_rule(chat_data[idx])\n",
    "        if pred != 1:\n",
    "            pred = cls.predict([chat_encoded[idx]])[0]\n",
    "        prediction.append(pred)\n",
    "#     print(prediction)\n",
    "#     prediction = cls.predict(test_x)\n",
    "#     print(classification_report(y_pred= prediction, y_true= test_y))\n",
    "    f1_score.append(classification_report(y_pred= prediction, y_true= test_y, output_dict= True)['micro avg']['f1-score'])\n",
    "    \n",
    "print(\"Average f1-score: {}\".format(np.mean(f1_score)))"
   ]
  }
 ],
 "metadata": {
  "kernelspec": {
   "display_name": "Python 3",
   "language": "python",
   "name": "python3"
  },
  "language_info": {
   "codemirror_mode": {
    "name": "ipython",
    "version": 3
   },
   "file_extension": ".py",
   "mimetype": "text/x-python",
   "name": "python",
   "nbconvert_exporter": "python",
   "pygments_lexer": "ipython3",
   "version": "3.5.2"
  }
 },
 "nbformat": 4,
 "nbformat_minor": 2
}
