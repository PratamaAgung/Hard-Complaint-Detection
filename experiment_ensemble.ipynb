{
 "cells": [
  {
   "cell_type": "code",
   "execution_count": 2,
   "metadata": {},
   "outputs": [],
   "source": [
    "import csv\n",
    "import re\n",
    "import numpy as np\n",
    "from sklearn.model_selection import train_test_split, KFold\n",
    "from sklearn.metrics import classification_report\n",
    "from sklearn.svm import LinearSVC, SVC\n",
    "from sklearn.pipeline import Pipeline\n",
    "from sklearn.feature_extraction.text import CountVectorizer, TfidfVectorizer\n",
    "from sklearn.ensemble import RandomForestClassifier\n",
    "from xgboost import XGBClassifier"
   ]
  },
  {
   "cell_type": "code",
   "execution_count": 4,
   "metadata": {},
   "outputs": [],
   "source": [
    "chat_opening = []\n",
    "with open(\"opening_chat_for_fasttext.csv\") as file:\n",
    "    readCSV = csv.reader(file)\n",
    "    for row in readCSV:\n",
    "        chat = row[0].lower()\n",
    "        chat = re.sub(r\"\\.|\\?|,|#|!|\\n\", \"\", chat)\n",
    "        chat_opening.append(chat.split(' '))"
   ]
  },
  {
   "cell_type": "code",
   "execution_count": 5,
   "metadata": {},
   "outputs": [],
   "source": [
    "from gensim.models import FastText\n",
    "from gensim.test.utils import common_texts\n",
    "\n",
    "size_output = 256\n",
    "model = FastText(chat_opening, size= size_output, window= 8)"
   ]
  },
  {
   "cell_type": "code",
   "execution_count": 21,
   "metadata": {},
   "outputs": [],
   "source": [
    "import pandas as pd\n",
    "data = pd.read_csv(\"complaint_data_2k.csv\")"
   ]
  },
  {
   "cell_type": "code",
   "execution_count": 22,
   "metadata": {},
   "outputs": [],
   "source": [
    "chat_data = np.array(data['Chat'].values.tolist())\n",
    "chat_label = np.array(data['Label'].values.tolist())"
   ]
  },
  {
   "cell_type": "code",
   "execution_count": 23,
   "metadata": {},
   "outputs": [],
   "source": [
    "for i, chat in enumerate(chat_data):\n",
    "    chat = chat.lower()\n",
    "    chat = re.sub(r\"\\.|\\?|,|#|!|\\n\", \"\", chat)\n",
    "    chat = re.sub(r\"[A-Z]*[0-9]+[A-Z]*\", \"\", chat)\n",
    "    chat_data[i] = chat"
   ]
  },
  {
   "cell_type": "code",
   "execution_count": 24,
   "metadata": {},
   "outputs": [],
   "source": [
    "chat_encoded = []\n",
    "for chat in chat_data:\n",
    "    encoded_words = []\n",
    "    for w in chat.split(' '):\n",
    "        if len(w) > 1:\n",
    "            try:\n",
    "                encoded_words.append(model.wv[w])\n",
    "            except:\n",
    "                continue\n",
    "    if len(encoded_words) > 0:\n",
    "        chat_encoded.append(np.mean(encoded_words, axis= 0))\n",
    "    else:\n",
    "        chat_encoded.append(np.zeros(size_output))\n",
    "\n",
    "chat_encoded = np.array(chat_encoded)"
   ]
  },
  {
   "cell_type": "code",
   "execution_count": 25,
   "metadata": {},
   "outputs": [],
   "source": [
    "kf = KFold(n_splits= 10, shuffle= True)"
   ]
  },
  {
   "cell_type": "markdown",
   "metadata": {},
   "source": [
    "## XGBoost"
   ]
  },
  {
   "cell_type": "code",
   "execution_count": 26,
   "metadata": {},
   "outputs": [
    {
     "name": "stdout",
     "output_type": "stream",
     "text": [
      "Average f1-score: 0.9292587064676617\n"
     ]
    }
   ],
   "source": [
    "## raw-data, using TF\n",
    "f1_score = []\n",
    "for train_idx, test_idx in kf.split(chat_data):\n",
    "    train_x, test_x = chat_data[train_idx], chat_data[test_idx]\n",
    "    train_y, test_y = chat_label[train_idx], chat_label[test_idx]\n",
    "    \n",
    "    pipeline = Pipeline([(\"enc\", CountVectorizer(ngram_range=(1,2))),\n",
    "                        (\"cls\", XGBClassifier())])\n",
    "    pipeline.fit(train_x, train_y)\n",
    "    \n",
    "    prediction = pipeline.predict(test_x)\n",
    "#     for i, pred in enumerate(prediction):\n",
    "#         if pred != 1:\n",
    "#             prediction[i] = pipeline.predict([test_x[i]])[0]\n",
    "    f1_score.append(classification_report(y_pred= prediction, y_true= test_y, output_dict= True)['micro avg']['f1-score'])\n",
    "    \n",
    "print(\"Average f1-score: {}\".format(np.mean(f1_score)))"
   ]
  },
  {
   "cell_type": "code",
   "execution_count": 27,
   "metadata": {},
   "outputs": [
    {
     "name": "stdout",
     "output_type": "stream",
     "text": [
      "Average f1-score: 0.9212860696517412\n"
     ]
    }
   ],
   "source": [
    "## raw-data, using TF-IDF\n",
    "f1_score = []\n",
    "for train_idx, test_idx in kf.split(chat_data):\n",
    "    train_x, test_x = chat_data[train_idx], chat_data[test_idx]\n",
    "    train_y, test_y = chat_label[train_idx], chat_label[test_idx]\n",
    "    \n",
    "    pipeline = Pipeline([(\"enc\", TfidfVectorizer(ngram_range=(1,2))),\n",
    "                        (\"cls\", XGBClassifier())])\n",
    "    pipeline.fit(train_x, train_y)\n",
    "    \n",
    "    prediction = pipeline.predict(test_x)\n",
    "#     for i, pred in enumerate(prediction):\n",
    "#         if pred != 1:\n",
    "#             prediction[i] = pipeline.predict([test_x[i]])[0]\n",
    "    f1_score.append(classification_report(y_pred= prediction, y_true= test_y, output_dict= True)['micro avg']['f1-score'])\n",
    "    \n",
    "print(\"Average f1-score: {}\".format(np.mean(f1_score)))"
   ]
  },
  {
   "cell_type": "markdown",
   "metadata": {},
   "source": [
    "## Voting Classifier"
   ]
  },
  {
   "cell_type": "code",
   "execution_count": 13,
   "metadata": {},
   "outputs": [],
   "source": [
    "def semantic_hard_complaint_rule(chat):\n",
    "    chat = str(chat)\n",
    "    disappointed_words = [\"kecewa\", \"tidak puas\", \"kurang puas\", \"brengsek\", \"bangsat\", \"brgsk\", \"bgst\", \"anjing\"]\n",
    "    for dw in disappointed_words:\n",
    "        if dw in chat:\n",
    "            return 1\n",
    "    return 0"
   ]
  },
  {
   "cell_type": "code",
   "execution_count": 32,
   "metadata": {},
   "outputs": [
    {
     "name": "stdout",
     "output_type": "stream",
     "text": [
      "              precision    recall  f1-score   support\n",
      "\n",
      "           0       0.95      0.98      0.96       110\n",
      "           1       0.98      0.93      0.96        91\n",
      "\n",
      "   micro avg       0.96      0.96      0.96       201\n",
      "   macro avg       0.96      0.96      0.96       201\n",
      "weighted avg       0.96      0.96      0.96       201\n",
      "\n",
      "              precision    recall  f1-score   support\n",
      "\n",
      "           0       0.95      0.98      0.96       111\n",
      "           1       0.98      0.93      0.95        90\n",
      "\n",
      "   micro avg       0.96      0.96      0.96       201\n",
      "   macro avg       0.96      0.96      0.96       201\n",
      "weighted avg       0.96      0.96      0.96       201\n",
      "\n",
      "              precision    recall  f1-score   support\n",
      "\n",
      "           0       0.89      0.98      0.94       104\n",
      "           1       0.98      0.88      0.92        97\n",
      "\n",
      "   micro avg       0.93      0.93      0.93       201\n",
      "   macro avg       0.94      0.93      0.93       201\n",
      "weighted avg       0.93      0.93      0.93       201\n",
      "\n"
     ]
    },
    {
     "name": "stderr",
     "output_type": "stream",
     "text": [
      "/usr/local/lib/python3.5/dist-packages/sklearn/svm/base.py:922: ConvergenceWarning: Liblinear failed to converge, increase the number of iterations.\n",
      "  \"the number of iterations.\", ConvergenceWarning)\n"
     ]
    },
    {
     "name": "stdout",
     "output_type": "stream",
     "text": [
      "              precision    recall  f1-score   support\n",
      "\n",
      "           0       0.94      0.99      0.96       117\n",
      "           1       0.99      0.90      0.94        84\n",
      "\n",
      "   micro avg       0.96      0.96      0.96       201\n",
      "   macro avg       0.96      0.95      0.95       201\n",
      "weighted avg       0.96      0.96      0.95       201\n",
      "\n"
     ]
    },
    {
     "name": "stderr",
     "output_type": "stream",
     "text": [
      "/usr/local/lib/python3.5/dist-packages/sklearn/svm/base.py:922: ConvergenceWarning: Liblinear failed to converge, increase the number of iterations.\n",
      "  \"the number of iterations.\", ConvergenceWarning)\n"
     ]
    },
    {
     "name": "stdout",
     "output_type": "stream",
     "text": [
      "              precision    recall  f1-score   support\n",
      "\n",
      "           0       0.91      0.99      0.95       104\n",
      "           1       0.99      0.90      0.94        97\n",
      "\n",
      "   micro avg       0.95      0.95      0.95       201\n",
      "   macro avg       0.95      0.94      0.94       201\n",
      "weighted avg       0.95      0.95      0.95       201\n",
      "\n",
      "              precision    recall  f1-score   support\n",
      "\n",
      "           0       0.88      0.99      0.93       103\n",
      "           1       0.99      0.86      0.92        98\n",
      "\n",
      "   micro avg       0.93      0.93      0.93       201\n",
      "   macro avg       0.93      0.92      0.92       201\n",
      "weighted avg       0.93      0.93      0.92       201\n",
      "\n",
      "              precision    recall  f1-score   support\n",
      "\n",
      "           0       0.91      1.00      0.96        96\n",
      "           1       1.00      0.91      0.96       105\n",
      "\n",
      "   micro avg       0.96      0.96      0.96       201\n",
      "   macro avg       0.96      0.96      0.96       201\n",
      "weighted avg       0.96      0.96      0.96       201\n",
      "\n",
      "              precision    recall  f1-score   support\n",
      "\n",
      "           0       0.95      0.95      0.95       103\n",
      "           1       0.95      0.95      0.95        97\n",
      "\n",
      "   micro avg       0.95      0.95      0.95       200\n",
      "   macro avg       0.95      0.95      0.95       200\n",
      "weighted avg       0.95      0.95      0.95       200\n",
      "\n",
      "              precision    recall  f1-score   support\n",
      "\n",
      "           0       0.94      0.96      0.95       111\n",
      "           1       0.95      0.92      0.94        89\n",
      "\n",
      "   micro avg       0.94      0.94      0.94       200\n",
      "   macro avg       0.95      0.94      0.94       200\n",
      "weighted avg       0.95      0.94      0.94       200\n",
      "\n",
      "              precision    recall  f1-score   support\n",
      "\n",
      "           0       0.94      0.97      0.95       107\n",
      "           1       0.97      0.92      0.95        93\n",
      "\n",
      "   micro avg       0.95      0.95      0.95       200\n",
      "   macro avg       0.95      0.95      0.95       200\n",
      "weighted avg       0.95      0.95      0.95       200\n",
      "\n",
      "Average f1-score: 0.94768407960199\n"
     ]
    }
   ],
   "source": [
    "f1_score = []\n",
    "for train_idx, test_idx in kf.split(chat_data):\n",
    "    train_enc_x, test_enc_x = chat_encoded[train_idx], chat_encoded[test_idx]\n",
    "    train_x, test_x = chat_data[train_idx], chat_data[test_idx]\n",
    "    train_y, test_y = chat_label[train_idx], chat_label[test_idx]\n",
    "    \n",
    "    svc_ft = LinearSVC()\n",
    "    svc_ft.fit(train_enc_x, train_y)\n",
    "    \n",
    "    svc = Pipeline([(\"enc\", TfidfVectorizer(ngram_range=(1,2))),\n",
    "                        (\"cls\", LinearSVC())])\n",
    "    svc.fit(train_x, train_y)\n",
    "\n",
    "    prediction = []\n",
    "    for idx in test_idx:\n",
    "#         pred = semantic_hard_complaint_rule(chat_data[idx])\n",
    "#         if pred != 1:\n",
    "        pred = [svc_ft.predict([chat_encoded[idx]])[0],\n",
    "               svc.predict([chat_data[idx]])[0],\n",
    "               semantic_hard_complaint_rule(chat_data[idx])]\n",
    "        \n",
    "        ensemble_pred = max(set(pred), key=pred.count)\n",
    "        prediction.append(ensemble_pred)\n",
    "#     print(prediction)\n",
    "#     prediction = cls.predict(test_x)\n",
    "    print(classification_report(y_pred= prediction, y_true= test_y))\n",
    "    f1_score.append(classification_report(y_pred= prediction, y_true= test_y, output_dict= True)['micro avg']['f1-score'])\n",
    "    \n",
    "print(\"Average f1-score: {}\".format(np.mean(f1_score)))"
   ]
  }
 ],
 "metadata": {
  "kernelspec": {
   "display_name": "Python 3",
   "language": "python",
   "name": "python3"
  },
  "language_info": {
   "codemirror_mode": {
    "name": "ipython",
    "version": 3
   },
   "file_extension": ".py",
   "mimetype": "text/x-python",
   "name": "python",
   "nbconvert_exporter": "python",
   "pygments_lexer": "ipython3",
   "version": "3.5.2"
  }
 },
 "nbformat": 4,
 "nbformat_minor": 2
}
